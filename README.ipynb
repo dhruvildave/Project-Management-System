{
 "metadata": {
  "language_info": {
   "codemirror_mode": {
    "name": "ipython",
    "version": 3
   },
   "file_extension": ".py",
   "mimetype": "text/x-python",
   "name": "python",
   "nbconvert_exporter": "python",
   "pygments_lexer": "ipython3",
   "version": "3.8.5-final"
  },
  "orig_nbformat": 2,
  "kernelspec": {
   "name": "Python 3.8.5 64-bit ('tf': conda)",
   "display_name": "Python 3.8.5 64-bit ('tf': conda)",
   "metadata": {
    "interpreter": {
     "hash": "0b7dd8061010c40b13677d5a2950acffd450e414858ffbfd98c4fc6b978e934d"
    }
   }
  }
 },
 "nbformat": 4,
 "nbformat_minor": 2,
 "cells": [
  {
   "source": [
    "$$A_{m, n} = \n",
    "\\begin{bmatrix}\n",
    "    1 & \\sin{\\frac{\\theta^{2}}{2}} & 3\\\\\n",
    "    2 & 3 & 4\\\\\n",
    "\\end{bmatrix}\n",
    "$$"
   ],
   "cell_type": "markdown",
   "metadata": {}
  }
 ]
}
